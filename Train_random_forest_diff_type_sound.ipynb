{
 "cells": [
  {
   "cell_type": "markdown",
   "id": "c6232fc1",
   "metadata": {},
   "source": [
    "# Detect Animal and UrbanSound"
   ]
  },
  {
   "cell_type": "markdown",
   "id": "372f5850",
   "metadata": {},
   "source": [
    "## Packages and Parameters"
   ]
  },
  {
   "cell_type": "code",
   "execution_count": 1,
   "id": "37384fb3",
   "metadata": {},
   "outputs": [],
   "source": [
    "import os\n",
    "import numpy as np\n",
    "import librosa\n",
    "from sklearn.ensemble import RandomForestClassifier\n",
    "from sklearn.metrics import classification_report, confusion_matrix, accuracy_score, precision_recall_fscore_support\n",
    "from sklearn.model_selection import cross_val_score, train_test_split\n",
    "import matplotlib.pyplot as plt\n",
    "import seaborn as sns\n",
    "\n",
    "BASE_PATH = r\"~/data\"\n",
    "\n",
    "# melspectrogram\n",
    "SAMPLE_RATE = 44100\n",
    "SAMPLE_RATE = 44100\n",
    "MAX_DURATION = 5\n",
    "N_MELS = 32\n",
    "N_FFT = 256\n",
    "HOP_LENGTH = 64\n",
    "N_CLASSES = 2\n",
    "\n",
    "CLASS_MAPPING = {\n",
    "    \"Animals\": 0,\n",
    "    \"urban noises\": 1\n",
    "}"
   ]
  },
  {
   "cell_type": "markdown",
   "id": "4f6f2ff0",
   "metadata": {},
   "source": [
    "## Feature extraction and Load data"
   ]
  },
  {
   "cell_type": "code",
   "execution_count": 2,
   "id": "7d19efae",
   "metadata": {},
   "outputs": [],
   "source": [
    "# Melspectrogram\n",
    "def extract_melspectrogram(file_path, augment=False):\n",
    "    try:\n",
    "        audio, sr = librosa.load(file_path, sr=SAMPLE_RATE)\n",
    "        if augment:\n",
    "            if np.random.random() < 0.3:\n",
    "                audio += np.random.normal(0, 0.005, audio.shape)\n",
    "            if np.random.random() < 0.3:\n",
    "                shift = int(np.random.uniform(-0.2, 0.2) * len(audio))\n",
    "                audio = np.roll(audio, shift)\n",
    "            if np.random.random() < 0.3:\n",
    "                audio *= np.random.uniform(0.8, 1.2)\n",
    "\n",
    "        mel_spec = librosa.feature.melspectrogram(\n",
    "            y=audio, sr=sr, n_fft=N_FFT, hop_length=HOP_LENGTH, n_mels=N_MELS)\n",
    "        mel_spec_db = librosa.power_to_db(mel_spec, ref=np.max)\n",
    "        mel_spec_db = (mel_spec_db - np.mean(mel_spec_db)) / (np.std(mel_spec_db) + 1e-8)\n",
    "        mel_mean = np.mean(mel_spec_db, axis=1)\n",
    "        mel_std = np.std(mel_spec_db, axis=1)\n",
    "        return np.concatenate([mel_mean, mel_std])\n",
    "    except Exception as e:\n",
    "        print(f\"Error processing {file_path}: {e}\")\n",
    "        return None\n",
    "\n",
    "# File List\n",
    "def get_file_list(data_dir, CLASS_MAPPING):\n",
    "    file_list = []\n",
    "    for class_name in os.listdir(data_dir):\n",
    "        class_dir = os.path.join(data_dir, class_name)\n",
    "        if not os.path.isdir(class_dir) or class_name not in CLASS_MAPPING:\n",
    "            continue\n",
    "        label = CLASS_MAPPING[class_name]\n",
    "        for fname in os.listdir(class_dir):\n",
    "            if fname.endswith('.wav'):\n",
    "                fpath = os.path.join(class_dir, fname)\n",
    "                file_list.append((fpath, label))\n",
    "    return file_list"
   ]
  },
  {
   "cell_type": "markdown",
   "id": "6441693b",
   "metadata": {},
   "source": [
    "## Split Train(augmentation) and Test Data"
   ]
  },
  {
   "cell_type": "code",
   "execution_count": 3,
   "id": "41711ae4",
   "metadata": {},
   "outputs": [],
   "source": [
    "# Split Files\n",
    "file_list = get_file_list(BASE_PATH, CLASS_MAPPING)\n",
    "file_paths, labels = zip(*file_list)\n",
    "X_train_f, X_test_f, y_train, y_test = train_test_split(file_paths, labels, test_size=0.2, random_state=42, stratify=labels)\n",
    "\n",
    "# augmentation\n",
    "def extract_features_with_augmentation(file_paths, labels, augment_times=2):\n",
    "    X = []\n",
    "    y = []\n",
    "    for fpath, label in zip(file_paths, labels):\n",
    "        # original\n",
    "        feature = extract_melspectrogram(fpath, augment=False)\n",
    "        if feature is not None:\n",
    "            X.append(feature)\n",
    "            y.append(label)\n",
    "        # augment\n",
    "        for _ in range(augment_times):\n",
    "            aug_feature = extract_melspectrogram(fpath, augment=True)\n",
    "            if aug_feature is not None:\n",
    "                X.append(aug_feature)\n",
    "                y.append(label)\n",
    "    return np.array(X), np.array(y)\n",
    "\n",
    "# Extract Train / Test\n",
    "X_train, y_train = extract_features_with_augmentation(X_train_f, y_train, augment_times=2)\n",
    "X_test = np.array([extract_melspectrogram(f, augment=False) for f in X_test_f])\n",
    "y_test = np.array(y_test)"
   ]
  },
  {
   "cell_type": "markdown",
   "id": "36f0771e",
   "metadata": {},
   "source": [
    "## Model "
   ]
  },
  {
   "cell_type": "code",
   "execution_count": 4,
   "id": "5e21b88b",
   "metadata": {},
   "outputs": [],
   "source": [
    "rfc_model = RandomForestClassifier(n_estimators=100, max_depth=5, random_state=42)\n",
    "rfc_model.fit(X_train, y_train)\n",
    "y_pred = rfc_model.predict(X_test)"
   ]
  },
  {
   "cell_type": "markdown",
   "id": "6a327f10",
   "metadata": {},
   "source": [
    "## Model's Score"
   ]
  },
  {
   "cell_type": "code",
   "execution_count": 6,
   "id": "cd502126",
   "metadata": {},
   "outputs": [
    {
     "name": "stdout",
     "output_type": "stream",
     "text": [
      "k_fold_result:\n",
      " [0.83984375 0.8359375  0.87109375 0.87109375 0.83984375 0.859375  ] \n",
      "\n",
      "mean of k_fold_result:\n",
      " 0.8528645833333334 \n",
      "\n",
      "Accuracy: 0.8672\n",
      "Precision: 0.8725\n",
      "Recall: 0.8672\n",
      "F1-Score: 0.8653\n"
     ]
    }
   ],
   "source": [
    "# cross_val\n",
    "k_fold_result = cross_val_score(rfc_model, X_train, y_train, cv=6)\n",
    "# test_acc = rfc_model.score(X_test, y_test)\n",
    "# print(\"accuracy_score:\\n\",test_acc)\n",
    "print(\"k_fold_result:\\n\",k_fold_result,\"\\n\")\n",
    "print(\"mean of k_fold_result:\\n\",k_fold_result.mean(),\"\\n\")\n",
    "\n",
    "\n",
    "# F1-Score\n",
    "accuracy = accuracy_score(y_test, y_pred)\n",
    "precision, recall, f1, _ = precision_recall_fscore_support(y_test, y_pred, average='weighted')\n",
    "\n",
    "print(f\"Accuracy: {accuracy:.4f}\")\n",
    "print(f\"Precision: {precision:.4f}\")\n",
    "print(f\"Recall: {recall:.4f}\")\n",
    "print(f\"F1-Score: {f1:.4f}\")"
   ]
  },
  {
   "cell_type": "markdown",
   "id": "ea6a5757",
   "metadata": {},
   "source": [
    "## Confusion Matrix"
   ]
  },
  {
   "cell_type": "code",
   "execution_count": 11,
   "id": "5410dd07",
   "metadata": {},
   "outputs": [
    {
     "data": {
      "image/png": "[encoded data removed]",
      "text/plain": [
       "<Figure size 600x500 with 2 Axes>"
      ]
     },
     "metadata": {},
     "output_type": "display_data"
    }
   ],
   "source": [
    "cm = confusion_matrix(y_test, y_pred)\n",
    "plt.figure(figsize=(6,5))\n",
    "sns.heatmap(cm, annot=True, fmt='d', cmap='Blues', \n",
    "            xticklabels=CLASS_MAPPING.keys(), yticklabels=CLASS_MAPPING.keys())\n",
    "plt.xlabel(\"Predicted\")\n",
    "plt.ylabel(\"True\")\n",
    "plt.title(\"Random Forest - Confusion Matrix\")\n",
    "plt.tight_layout()\n",
    "plt.savefig('random_forest_confusion_matrix.png', dpi=300)\n",
    "plt.show()\n",
    "plt.show()"
   ]
  }
 ],
 "metadata": {
  "kernelspec": {
   "display_name": "Python 3 (ipykernel)",
   "language": "python",
   "name": "python3"
  },
  "language_info": {
   "codemirror_mode": {
    "name": "ipython",
    "version": 3
   },
   "file_extension": ".py",
   "mimetype": "text/x-python",
   "name": "python",
   "nbconvert_exporter": "python",
   "pygments_lexer": "ipython3",
   "version": "3.12.3"
  }
 },
 "nbformat": 4,
 "nbformat_minor": 5
}
